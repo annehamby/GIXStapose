{
 "cells": [
  {
   "cell_type": "code",
   "execution_count": null,
   "metadata": {},
   "outputs": [],
   "source": [
    "import mbuild as mb\n",
    "import numpy as np\n",
    "import matplotlib.pyplot as plt\n",
    "\n",
    "from diffractometer import Diffractometer"
   ]
  },
  {
   "cell_type": "code",
   "execution_count": null,
   "metadata": {},
   "outputs": [],
   "source": [
    "## Used for creating files to get diffraction data\n",
    "\n",
    "#pdbname = \"fcc10\"\n",
    "#pdbname = \"bcc10\"\n",
    "pdbname = \"sc10\"\n",
    "\n",
    "dirname = \"gixs_data\"\n",
    "\n",
    "box = mb.Box(np.array([10,10,10])/10) # mbuild scales pdbs... \n",
    "#print(box)\n",
    "pdb = mb.load(f\"{dirname}/{pdbname}.pdb\")\n",
    "#pdb.visualize().show()\n",
    "#print([i for i in pdb.particles()])\n",
    "#pdb.save(f\"{dirname}/{pdbname}.gsd\", box=box, overwrite=True)"
   ]
  },
  {
   "cell_type": "code",
   "execution_count": null,
   "metadata": {},
   "outputs": [],
   "source": [
    "box = mb.Box(np.array([10,10,10])/10) # mbuild scales pdbs... \n",
    "#print(box)\n",
    "pdb = mb.load(f\"{dirname}/{pdbname}.pdb\")"
   ]
  },
  {
   "cell_type": "code",
   "execution_count": null,
   "metadata": {},
   "outputs": [],
   "source": [
    "pdb.n_bonds"
   ]
  },
  {
   "cell_type": "code",
   "execution_count": null,
   "metadata": {},
   "outputs": [],
   "source": [
    "pdb.visualize().show()"
   ]
  },
  {
   "cell_type": "code",
   "execution_count": null,
   "metadata": {},
   "outputs": [],
   "source": [
    "d = Diffractometer()"
   ]
  },
  {
   "cell_type": "code",
   "execution_count": null,
   "metadata": {},
   "outputs": [],
   "source": [
    "d.load(pdb.xyz, box.maxs)"
   ]
  },
  {
   "cell_type": "code",
   "execution_count": null,
   "metadata": {},
   "outputs": [],
   "source": [
    "# d.load sets the following\n",
    "\n",
    "#print(d.box)\n",
    "#for i in range(d.orig.shape[0]):\n",
    "#    print(d.orig[i,:], d.image[i,:])"
   ]
  },
  {
   "cell_type": "code",
   "execution_count": null,
   "metadata": {},
   "outputs": [],
   "source": [
    "from cme_utils.manip import utilities\n",
    "n_v = 20\n",
    "def prep_matrices():\n",
    "    ga = np.pi * (3.0 - 5 ** 0.5)\n",
    "    theta = ga * np.arange(n_v - 3)\n",
    "    z = np.linspace(\n",
    "        1 - 1.0 / (n_v - 3), 1.0 / (n_v - 1 - 3), n_v - 3\n",
    "    )\n",
    "    radius = np.sqrt(1.0 - z * z)\n",
    "    points = np.zeros((n_v, 3))\n",
    "    points[:-3, 0] = radius * np.cos(theta)\n",
    "    points[:-3, 1] = radius * np.sin(theta)\n",
    "    points[:-3, 2] = z\n",
    "    points[-3] = np.array([0, 0, 1])\n",
    "    points[-2] = np.array([0, 1, 1])\n",
    "    points[-1] = np.array([1, 1, 1])\n",
    "    return [utilities.rotation_matrix_from_to(i, np.array([0, 0, 1])) for i in points]\n",
    "\n",
    "rotmats = prep_matrices()"
   ]
  },
  {
   "cell_type": "code",
   "execution_count": null,
   "metadata": {},
   "outputs": [],
   "source": [
    "#for i,mat in enumerate(rotmats):\n",
    "#    print(i)\n",
    "#    print(mat)"
   ]
  },
  {
   "cell_type": "code",
   "execution_count": null,
   "metadata": {},
   "outputs": [],
   "source": [
    "from scipy import interpolate, ndimage\n",
    "\n",
    "rot = rotmats[0]\n",
    "print(rot.shape)\n",
    "N = d.N / d.zoom\n",
    "inv_shear = d.calc_proj(rot)\n",
    "print(inv_shear.shape)\n",
    "xy = np.copy(np.dot(d.orig, rot)[:, 0:2])\n",
    "print(xy.shape)\n",
    "xy = np.dot(xy, inv_shear.T)\n",
    "print(xy.shape)\n",
    "xy = d.pbc_2d(xy, N)\n",
    "print(xy.shape)\n",
    "im = d.bin(xy, N)\n",
    "print(im.shape)\n",
    "\n",
    "dp = np.fft.fft2(im)\n",
    "print(dp.shape)\n",
    "dp = ndimage.fourier.fourier_gaussian(dp, d.peak_width / d.zoom)\n",
    "dp = np.fft.fftshift(dp)\n",
    "dp = np.absolute(dp)\n",
    "dp *= dp\n",
    "dp = d.scale(dp)\n",
    "print(dp.shape)\n",
    "dp = d.shear_back(dp, inv_shear)\n",
    "print(dp.shape)\n",
    "dp /= dp.max()\n",
    "dp[dp < d.bot] = d.bot"
   ]
  },
  {
   "cell_type": "code",
   "execution_count": null,
   "metadata": {},
   "outputs": [],
   "source": [
    "for mat in rotmats:\n",
    "    dp = d.diffract(mat.T)\n",
    "    idbig = d.circle_cutout(dp)\n",
    "    dp[np.unravel_index(idbig, (d.N, d.N))] = np.log10(d.bot)\n",
    "    plt.imshow(dp, cmap = \"jet\")\n",
    "    plt.axis(\"off\")\n",
    "    plt.show()"
   ]
  },
  {
   "cell_type": "code",
   "execution_count": null,
   "metadata": {},
   "outputs": [],
   "source": []
  }
 ],
 "metadata": {
  "kernelspec": {
   "display_name": "Python 3",
   "language": "python",
   "name": "python3"
  },
  "language_info": {
   "codemirror_mode": {
    "name": "ipython",
    "version": 3
   },
   "file_extension": ".py",
   "mimetype": "text/x-python",
   "name": "python",
   "nbconvert_exporter": "python",
   "pygments_lexer": "ipython3",
   "version": "3.8.0"
  }
 },
 "nbformat": 4,
 "nbformat_minor": 4
}
